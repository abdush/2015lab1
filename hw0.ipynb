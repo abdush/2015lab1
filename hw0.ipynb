{
 "cells": [
  {
   "cell_type": "markdown",
   "metadata": {},
   "source": [
    "# Homework 0"
   ]
  },
  {
   "cell_type": "markdown",
   "metadata": {},
   "source": [
    "##Survey due 4th September, 2015"
   ]
  },
  {
   "cell_type": "markdown",
   "metadata": {},
   "source": [
    "##Submission due 10th September, 2015"
   ]
  },
  {
   "cell_type": "markdown",
   "metadata": {},
   "source": [
    "---\n",
    "\n",
    "Welcome to CS109 / STAT121 / AC209 / E-109 (http://cs109.org/).  In this class, we will be using a variety of tools that will require some initial configuration. To ensure everything goes smoothly moving forward, we will setup the majority of those tools in this homework. **It is very important that you do this setup as soon as possible**. While some of this will likely be dull, doing it now will enable us to do more exciting work in the weeks that follow without getting bogged down in further software configuration. You will also be filling out a **mandatory class survey and creating a github and AWS account, which are mandatory as well**. \n",
    "\n",
    "Please note that the **survey is due on September 4th**. The reason is that we need your github account name to set you up for the homework submission system. If you do not submit the survey on time you might not be able to submit the homework in time.\n",
    "\n",
    "This homework will not be graded, however, you **must submit it**. Submission instructions, along with the github flow for homework, are at the end of this notebook. The practice you will get submitting this homework will be essential for the submission of the forthcoming homework notebooks and your project."
   ]
  },
  {
   "cell_type": "markdown",
   "metadata": {},
   "source": [
    "#Table of Contents\n",
    "* [Homework 0](#Homework-0)\n",
    "\t* [Survey due 4th September, 2015](#Survey-due-4th-September,-2015)\n",
    "\t* [Submission due 10th September, 2015](#Submission-due-10th-September,-2015)\n",
    "\t* [First Things](#First-Things)\n",
    "\t\t* [1. Create your github account](#1.-Create-your-github-account)\n",
    "\t\t* [2. Class Survey](#2.-Class-Survey)\n",
    "\t\t* [3. Piazza](#3.-Piazza)\n",
    "\t\t* [4. Programming expectations](#4.-Programming-expectations)\n",
    "\t\t* [5. If you do not have a .edu email address](#5.-If-you-do-not-have-a-.edu-email-address)\n",
    "\t* [Getting and installing Python](#Getting-and-installing-Python)\n",
    "\t\t* [Installing Anaconda](#Installing-Anaconda)\n",
    "\t\t* [Mac/Linux users](#Mac/Linux-users)\n",
    "\t\t* [Windows Users](#Windows-Users)\n",
    "\t\t* [Troubleshooting](#Troubleshooting)\n",
    "\t* [Setting up your git environment](#Setting-up-your-git-environment)\n",
    "\t\t* [1. Installing git](#1.-Installing-git)\n",
    "\t\t\t* [Windows specific notes](#Windows-specific-notes)\n",
    "\t\t\t* [Mac specific notes](#Mac-specific-notes)\n",
    "\t\t* [2. Optional: Creating ssh keys on your machine](#2.-Optional:-Creating-ssh-keys-on-your-machine)\n",
    "\t\t* [3.  Optional: Uploading ssh keys and Authentication](#3.--Optional:-Uploading-ssh-keys-and-Authentication)\n",
    "\t\t* [4. Setting global config for git](#4.-Setting-global-config-for-git)\n",
    "\t\t* [5. Github tutorial](#5.-Github-tutorial)\n",
    "\t* [Sign up for AWS](#Sign-up-for-AWS)\n",
    "\t\t* [1. Get an AWS account](#1.-Get-an-AWS-account)\n",
    "\t\t* [2. Sign up for AWS educate](#2.-Sign-up-for-AWS-educate)\n",
    "\t* [Hello, Python](#Hello,-Python)\n",
    "\t* [Python Libraries](#Python-Libraries)\n",
    "\t\t* [Installing additional libraries](#Installing-additional-libraries)\n",
    "\t\t* [Testing latest libraries](#Testing-latest-libraries)\n",
    "\t* [Kicking the tires](#Kicking-the-tires)\n",
    "\t\t* [Hello World](#Hello-World)\n",
    "\t\t* [Hello matplotlib](#Hello-matplotlib)\n",
    "\t\t* [Hello Numpy](#Hello-Numpy)\n",
    "\t* [The Monty Hall Problem](#The-Monty-Hall-Problem)\n",
    "\t* [The workflow for homeworks and labs](#The-workflow-for-homeworks-and-labs)\n",
    "\t\t* [getting and working on labs](#getting-and-working-on-labs)\n",
    "\t\t* [getting and submitting homework](#getting-and-submitting-homework)\n"
   ]
  },
  {
   "cell_type": "markdown",
   "metadata": {},
   "source": [
    "##First Things"
   ]
  },
  {
   "cell_type": "markdown",
   "metadata": {},
   "source": [
    "I cant stress this enough: **Do this setup now!**\n",
    "\n",
    "These first things are incredibly important. You must absolutely fill these out to get into the swing of things..."
   ]
  },
  {
   "cell_type": "markdown",
   "metadata": {},
   "source": [
    "###1. Create your github account"
   ]
  },
  {
   "cell_type": "markdown",
   "metadata": {},
   "source": [
    "If you do not have a github account as yet, create it at:"
   ]
  },
  {
   "cell_type": "markdown",
   "metadata": {},
   "source": [
    "https://github.com\n",
    "\n",
    "This step is **mandatory**. We will need your github username. We are using github for all aspects of this course, including\n",
    "\n",
    "- doing and submitting homework\n",
    "- collaborating on your project\n",
    "- creating your web site"
   ]
  },
  {
   "cell_type": "markdown",
   "metadata": {},
   "source": [
    "To sign up for an account, just go to [github](https://github.com) and pick a unique username, an email address, and a password. Once you've done that, your github page will be at https://github.com/your-username.\n",
    "\n",
    "Github also provides a student [developer package](https://education.github.com/pack). This is something that might be nice to have, but it is not necessary for the course. Github may take some time to approve your application for the package. Please note that this is optional and you do not have to have the package approved to fill out the survey. "
   ]
  },
  {
   "cell_type": "markdown",
   "metadata": {},
   "source": [
    "###2. Class Survey"
   ]
  },
  {
   "cell_type": "markdown",
   "metadata": {},
   "source": [
    "Next, you **must complete the mandatory** course survey located [here](http://goo.gl/forms/bJwajS8zO8). It should only take a few moments of your time. Once you fill in the survey we will use the github username you provided to sign you up into the `cs109-students` organization on github. (see https://help.github.com/articles/how-do-i-access-my-organization-account/) It is imperative that you fill out the survey on time as we use the provided information to sign you in: your access to the homework depends on being in this organization. "
   ]
  },
  {
   "cell_type": "markdown",
   "metadata": {},
   "source": [
    "###3. Piazza"
   ]
  },
  {
   "cell_type": "markdown",
   "metadata": {},
   "source": [
    "Go to [Piazza](https://piazza.com/harvard/fall2015/cs109/home) and sign up for the class using your Harvard e-mail address. If you do not have a Harvard email address write an email to staff@cs109.org and one of the TFs will sign you up.\n",
    "\n",
    "You will use Piazza as a forum for discussion, to find team members, to arrange appointments, and to ask questions. Piazza should be your primary form of communication with the staff. Use the staff e-mail (staff@cs109.org) only for individual requests, e.g., to excuse yourself from mandatory sections. All announcements, homework, and project descriptions will be posted on Piazza first. \n",
    "\n",
    "**Introduction**\n",
    "\n",
    "Once you are signed up to the Piazza course forum, introduce yourself to your classmates and course staff with a follow-up post in the introduction thread. Include your name/nickname, your affiliation, why you are taking this course, and tell us something interesting about yourself (e.g., an industry job, an unusual hobby, past travels, or a cool project you did, etc.). Also tell us whether you have experience with data science."
   ]
  },
  {
   "cell_type": "markdown",
   "metadata": {},
   "source": [
    "###4. Programming expectations"
   ]
  },
  {
   "cell_type": "markdown",
   "metadata": {},
   "source": [
    "All the assignments and labs for this class will use Python and, for the most part, the browser-based IPython notebook format you are currently viewing. Knowledge of Python is not a prerequisite for this course, **provided you are comfortable learning on your own as needed**. While we have strived to make the programming component of this course straightforward, we will not devote much time to teaching prorgramming or Python syntax. Basically, you should feel comfortable with:\n",
    "\n",
    "* How to look up Python syntax on Google and StackOverflow.\n",
    "* Basic programming concepts like functions, loops, arrays, dictionaries, strings, and if statements.\n",
    "* How to learn new libraries by reading documentation.\n",
    "* Asking questions on StackOverflow or Piazza.\n",
    "\n",
    "There are many online tutorials to introduce you to scientific python programming. [Here is a course](https://github.com/jrjohansson/scientific-python-lectures) that is very nice. Lectures 1-4 of this course are most relevant to this class. While we will cover some python programming in labs 1 and 2, we expect you to pick it up on the fly. "
   ]
  },
  {
   "cell_type": "markdown",
   "metadata": {},
   "source": [
    "###5. If you do not have a .edu email address"
   ]
  },
  {
   "cell_type": "markdown",
   "metadata": {},
   "source": [
    "Please get one, as you will need it to sign up for AWS educate, and if you want to sign up for the student developer github package you will need it as well. As a DCE student you are eligible for a FAS account and you can sign up [here](http://www.extension.harvard.edu/resources-policies/resources/computer-e-mail-services)."
   ]
  },
  {
   "cell_type": "markdown",
   "metadata": {},
   "source": [
    "## Getting and installing Python"
   ]
  },
  {
   "cell_type": "markdown",
   "metadata": {},
   "source": [
    "You will be using Python throughout the course, including many popular 3rd party Python libraries for scientific computing. [Anaconda](http://continuum.io/downloads) is an easy-to-install bundle of Python and most of these libraries. We **strongly** recommend that you use Anaconda for this course. If you insist on using your own Python setup instead of Anaconda, we will not provide any installation support, and are not responsible for you loosing points on homework assignments in case of inconsistencies. \n",
    "\n",
    "For this course we are using **Python 2**, not **Python 3**.\n",
    "\n",
    "Also see: http://docs.continuum.io/anaconda/install\n",
    "\n",
    "The **IPython** or **Jupyter** notebook runs in the browser, and works best in Google Chrome or Safari for me. You probably want to use one of these for assignments in this course."
   ]
  },
  {
   "cell_type": "markdown",
   "metadata": {},
   "source": [
    "### Installing Anaconda"
   ]
  },
  {
   "cell_type": "markdown",
   "metadata": {},
   "source": [
    "The Anaconda Python distribution is an easily-installable bundle of Python and many of the libraries used throughout this class. Unless you have a good reason not to, we recommend that you use Anaconda."
   ]
  },
  {
   "cell_type": "markdown",
   "metadata": {},
   "source": [
    "### Mac/Linux users"
   ]
  },
  {
   "cell_type": "markdown",
   "metadata": {},
   "source": [
    "1. Download the [appropriate version](http://continuum.io/downloads) of Anaconda\n",
    "1. Follow the instructions on that page to run the installer\n",
    "1. Test out the IPython notebook: open a Terminal window, and type `ipython notebook`. Or use the Anaconda Launcher which might have been deposited on your desktop. A new browser window should pop up. \n",
    "1. Click `New Notebook` to create a new notebook file. **Trick**: give this notebook a unique name, like `my-little-rose`. Use Spotlight (upper right corner of the mac desktop, looks like a maginifier) to search for this name. In this way, you will know which folder your notebook opens in by default."
   ]
  },
  {
   "cell_type": "markdown",
   "metadata": {},
   "source": [
    "### Windows Users"
   ]
  },
  {
   "cell_type": "markdown",
   "metadata": {},
   "source": [
    "1. Download the [appropriate version](http://continuum.io/downloads) of Anaconda\n",
    "1. Follow the instructions on that page to run the installer. This will typically create a directory at `C:\\Anaconda`\n",
    "1. Test it out: start the Anaconda launcher, which you can find in `C:\\Anaconda` or, in the Start menu. Start the IPython notebook. A new browser window should open. \n",
    "1. Click `New Notebook`, which should open a new page. **Trick**: give this notebook a unique name, like `my-little-rose`. Use Explorer (usually start menu on windows desktops) to search for this name. In this way, you will know which folder your notebook opens in by default.\n",
    "\n",
    "If you did not add Anaconda to your path, be sure to use the full path to the python and ipython executables, such as `/anaconda/bin/python`.\n",
    "\n",
    "If you already have installed Anaconda at some point in the past, you can easily update to the latest Anaconda version by updating conda, then Anaconda as follows:\n",
    "\n",
    "```\n",
    "conda update conda\n",
    "conda update anaconda\n",
    "```"
   ]
  },
  {
   "cell_type": "markdown",
   "metadata": {},
   "source": [
    "###Troubleshooting"
   ]
  },
  {
   "cell_type": "markdown",
   "metadata": {},
   "source": [
    "You must be careful to make sure you are running the Anaconda version of python, since those operating systems come preinstalled with their own versions of python."
   ]
  },
  {
   "cell_type": "code",
   "execution_count": 1,
   "metadata": {
    "collapsed": false
   },
   "outputs": [
    {
     "name": "stdout",
     "output_type": "stream",
     "text": [
      "2.7.9 (default, Dec 10 2014, 12:24:55) [MSC v.1500 32 bit (Intel)]\n"
     ]
    }
   ],
   "source": [
    "import sys\n",
    "print sys.version"
   ]
  },
  {
   "cell_type": "markdown",
   "metadata": {},
   "source": [
    "**Problem**\n",
    "When you start python, you don't see a line like `Python 2.7.5 |Anaconda 1.6.1 (x86_64)|`. You are using a Mac or Linux computer\n",
    "\n",
    "**Reason**\n",
    "You are most likely running a different version of Python, and need to modify your Path (the list of directories your computer looks through to find programs). \n",
    "\n",
    "**Solution**\n",
    "Find a file like `.bash_profile`, `.bashrc`, or `.profile`. Open the file in a text editor, and add a line at this line at the end: `export PATH=\"$HOME/anaconda/bin:$PATH\"`. Close the file, open a new terminal window, type `source ~/.profile` (or whatever file you just edited). Type `which python` -- you should see a path that points to the anaconda directory. If so, running `python` should load the proper version\n",
    "\n",
    "If this doesn't work (typing `which python` doesn't point to anaconda), you might be using a different shell. Type `echo $SHELL`. If this isn't `bash`, you need to edit a different startup file (for example, if if `echo $SHELL` gives `$csh`, you need to edit your `.cshrc` file. The syntax for this file is slightly different: `set PATH = ($HOME/anaconda/bin $PATH)`\n",
    "***\n",
    "\n",
    "**Problem**\n",
    "You are running the right version of python (see above item), but are unable to import numpy. \n",
    "\n",
    "**Reason**\n",
    "You are probably loading a different copy of numpy that is incompatible with Anaconda\n",
    "\n",
    "**Solution**\n",
    "See the above item to find your `.bash_profile`, `.profile`, or `.bashrc` file. Open it, and add the line `unset PYTHONPATH` at the end. Close the file, open a new terminal window, type `source ~/.profile` (or whatever file you just edited), and try again.\n",
    "***\n",
    "\n",
    "**Problem**\n",
    "Under Windows, you receive an error message similar to the following: \"'pip' is not recognized as an internal or external command, operable program or batch file.\"\n",
    "\n",
    "**Reason**\n",
    "The correct Anaconda paths might not be present in your PATH variable, or Anaconda might not have installed correctly.\n",
    "\n",
    "**Solution**\n",
    "Ensure the Anaconda directories to your path environment variable (\"\\Anaconda\" and \"\\Anaconda\\Scripts\").  See [this page](http://superuser.com/questions/284342/what-are-path-and-other-environment-variables-and-how-can-i-set-or-use-them) for details.\n",
    "\n",
    "If this does not correct the problem, reinstall Anaconda.\n",
    "\n",
    "\n",
    "**IF YOU ARE STILL HAVING ISSUES ON THE INSTALL, POST TO PIAZZA. WE'LL HELP YOU THERE. OR ASK IN YOUR SECTION**"
   ]
  },
  {
   "cell_type": "markdown",
   "metadata": {},
   "source": [
    "##Setting up your git environment"
   ]
  },
  {
   "cell_type": "markdown",
   "metadata": {},
   "source": [
    "###1. Installing git"
   ]
  },
  {
   "cell_type": "markdown",
   "metadata": {},
   "source": [
    "We will be using the command line version of git.\n",
    "\n",
    "On linux, install git using your system package manager (yum, apt-get, etc)\n",
    "\n",
    "On the Mac, if you ever installed Xcode, you should have git installed. Or you might have installed it using `homebrew`. Either of these are fine as long as the git version is greater than 2.0\n",
    "\n",
    "Otherwise, on Mac and Windows, go to http://git-scm.com. Accept all defaults in the installation process. On Windows, installing git will also install for you a minimal unix environment with a \"bash\" shell and terminal window. Voila, your windows computer is transformed into a unixy form."
   ]
  },
  {
   "cell_type": "markdown",
   "metadata": {},
   "source": [
    "####Windows specific notes"
   ]
  },
  {
   "cell_type": "markdown",
   "metadata": {},
   "source": [
    "There will be an installer `.exe` file you need to click. Accept all the defaults.\n",
    "\n",
    "Here is a screenshot from one of the defaults. It makes sure you will have the \"bash\" tool talked about earlier.\n",
    "![use git bash](wgi-git-bash.png)\n",
    "\n",
    "Choose the default line-encoding conversion:\n",
    "![default lines](wgi-defaultlines.png)\n",
    "\n",
    "Use the terminal emulator they provide, its better than the one shipped with windows.\n",
    "![use mintty](wgi-usemintty.png)\n",
    "\n",
    "Towards the end, you might see a message like this. It looks scary, but all you need to do is click \"Continue\"\n",
    "![scary message](wgi-scarymessage.png)\n",
    "\n",
    "\n",
    "At this point you will be installed. You can bring up \"git bash\" either from your start menu, or from the right click menu on any folder background. When you do so, a terminal window will open. This terminal is where you will issue further git setup commands, and git commands in general.\n",
    "\n",
    "Get familiar with the terminal. It opens in your home folder, and maps `\\\\` paths on windows to more web/unix like paths with '/'. Try issuing the commands `ls`, `pwd`, and `cd folder` where folder is one of the folders you see when you do a ls. You can do a `cd ..` to come back up.\n",
    "\n",
    "You can also use the terminal which comes with the ipython notebook. More about that later."
   ]
  },
  {
   "cell_type": "markdown",
   "metadata": {},
   "source": [
    "####Mac specific notes"
   ]
  },
  {
   "cell_type": "markdown",
   "metadata": {},
   "source": [
    "As mentioned earlier, if you ever installed Xcode or the \"Command Line Developer tools\", you may already have git.\n",
    "Make sure its version 2.0 or higher. (`git --version`)\n",
    "\n",
    "Or if you use **Homebrew**, you can install it from there. The current version on homebrew is 2.4.3\n",
    " You dont need to do anyting more in this section.\n",
    "\n",
    "-----\n",
    "\n",
    "First click on the `.mpkg` file that comes when you open the downloaded `.dmg` file.\n",
    "\n",
    "When I tried to install git on my mac, I got a warning saying my security preferences wouldnt allow it to be installed. So I opened my system preferences and went to \"Security\".\n",
    "\n",
    "![system pref](mac-git-security.png)\n",
    "\n",
    "Here you must click \"Open Anyway\", and the installer will run.\n",
    "\n",
    "The installer puts git as `/usr/local/git/bin/git`. Thats not a particularly useful spot. Open up `Terminal.app`.Its usually in `/Applications/Utilities`. Once the terminal opens up, issue\n",
    "\n",
    "`sudo ln -s /usr/local/git/bin/git /usr/local/bin/git`."
   ]
  },
  {
   "cell_type": "markdown",
   "metadata": {},
   "source": [
    "Keep the Terminal application handy in your dock. (You could also download and use iTerm.app, which is a nicer terminal, if you are into terminal geekery). We'll be using the terminal extensively for git. You can also use the terminal which comes with the ipython notebook. More about that later.\n",
    "\n",
    "Try issuing the commands `ls`, `pwd`, and `cd folder` where folder is one of the folders you see when you do a ls. You can do a `cd ..` to come back up."
   ]
  },
  {
   "cell_type": "markdown",
   "metadata": {},
   "source": [
    "###2. Optional: Creating ssh keys on your machine"
   ]
  },
  {
   "cell_type": "markdown",
   "metadata": {},
   "source": [
    "This ia an optional step. But it makes things much easier.\n",
    "\n",
    "There are two ways git talks to github: https, which is a web based protocol\n",
    "\n",
    "![github https](github-https-clone.png)\n",
    "\n",
    "or over ssh\n",
    "\n",
    "![github ssh](github-ssh-clone.png)\n",
    "\n",
    "Which one you use is your choice. I recommend ssh, and the github urls in this homework and in labs will be ssh urls.\n",
    "Every time you contact your upstream repository (hosted on github), you need to prove you're you. You *can* do this with passwords over HTTPS, but it gets old quickly. By providing an ssh public key to github, your ssh-agent will handle all of that for you, and you wont have to put in any passwords.\n",
    "\n",
    "At your terminal, issue the command (skip this if you are a seasoned ssh user and already have keys):\n",
    "\n",
    "`ssh-keygen -t rsa`\n",
    "\n",
    "It will look like this:\n",
    "![github ssh keygen](sshkeygen.png)\n",
    "\n",
    "Accept the defaults. When it asks for a passphrase for your keys, put in none. (you can put in one if you know how to set up a ssh-agent).\n",
    "\n",
    "This will create two files for you, in your home folder if you accepted the defaults."
   ]
  },
  {
   "cell_type": "raw",
   "metadata": {},
   "source": [
    "➜  ~  ls .ssh/id_rsa*\n",
    ".ssh/id_rsa     .ssh/id_rsa.pub"
   ]
  },
  {
   "cell_type": "markdown",
   "metadata": {},
   "source": [
    "`id_rsa` is your PRIVATE key. NEVER NEVER NEVER give that to anyone. `id_rsa.pub` is your public key. You must supply this to github."
   ]
  },
  {
   "cell_type": "markdown",
   "metadata": {},
   "source": [
    "----"
   ]
  },
  {
   "cell_type": "markdown",
   "metadata": {},
   "source": [
    "###3.  Optional: Uploading ssh keys and Authentication"
   ]
  },
  {
   "cell_type": "markdown",
   "metadata": {},
   "source": [
    "To upload an ssh key, log in to github and click on the gear icon in the top right corner (settings). Once you're there, click on \"SSH keys\" on the left. This page will contain all your ssh keys once you upload any.\n",
    "\n",
    "Click on \"add ssh key\" in the top right. You should see this box:\n",
    "\n",
    "<img src=\"github_ssh.png\" alt=\"github ssh\" style=\"width: 500px;\"/>\n",
    "\n",
    "The title field should be the name of your computer or some other way to identify this particular ssh key.\n",
    "\n",
    "In the key field, you'll need to copy and paste your *public* key. **Do not paste your private ssh key here.**\n",
    "\n",
    "When you hit \"Add key\", you should see the key name and some hexadecimal characters show up in the list. You're set.\n",
    "\n",
    "Now, whenever you clone a repository using this form:\n",
    "\n",
    "`$ git clone git@github.com:rdadolf/ac297r-git-demo.git`,\n",
    "\n",
    "you'll be connecting over ssh, and will not be asked for your github password\n",
    "\n",
    "You will need to repeat steps 2 and 3 of the setup for each computer you wish to use with github."
   ]
  },
  {
   "cell_type": "markdown",
   "metadata": {},
   "source": [
    "###4. Setting global config for git"
   ]
  },
  {
   "cell_type": "markdown",
   "metadata": {},
   "source": [
    "Again, from the terminal, issue the command\n",
    "\n",
    "`git config --global user.name \"YOUR NAME\"`\n",
    "\n",
    "This sets up a name for you. Then do\n",
    "\n",
    "`git config --global user.email \"YOUR EMAIL ADDRESS\"`\n",
    "\n",
    "Use the **SAME** email address you used in setting up your github account.\n",
    "\n",
    "These commands set up your global configuration. On my Mac, these are stored in the text file `.gitconfig` in my home folder."
   ]
  },
  {
   "cell_type": "markdown",
   "metadata": {},
   "source": [
    "###5. Github tutorial"
   ]
  },
  {
   "cell_type": "markdown",
   "metadata": {},
   "source": [
    "Read our git and github tutorial from [Lab 1](https://github.com/cs109/2015lab1/blob/master/Lab1-git.ipynb). Then come back here.\n",
    "\n",
    "If you have any issues or questions: Ask us! On Piazza or in Sections!"
   ]
  },
  {
   "cell_type": "markdown",
   "metadata": {},
   "source": [
    "---"
   ]
  },
  {
   "cell_type": "markdown",
   "metadata": {},
   "source": [
    "## Sign up for AWS"
   ]
  },
  {
   "cell_type": "markdown",
   "metadata": {},
   "source": [
    "For the course you need to sign up for Amazon Web Services (AWS). \n",
    "\n",
    "- The sign up process has two steps:\n",
    "    1. Get an AWS account\n",
    "    2. Sign up for AWS educate\n",
    "\n",
    "The AWS account will enable you to access Amazon's webservices. The AWS educate sign up will provide you with $100 worth of free credits."
   ]
  },
  {
   "cell_type": "markdown",
   "metadata": {},
   "source": [
    "### 1. Get an AWS account"
   ]
  },
  {
   "cell_type": "markdown",
   "metadata": {},
   "source": [
    "Note: You can skip this step if you already have an account. \n",
    "\n",
    "- Go to [this webpage](https://aws.amazon.com/education/awseducate/apply/)\n",
    "- Click on the yellow box in the upper right corner saying \"Create an AWS account\"\n",
    "- Follow the normal instructions and fill in all necessary information to create your account.\n",
    "\n",
    "Once you have an account you need your account ID. The account ID is a 12 digit number. \n",
    "Please follow [this description](http://docs.aws.amazon.com/IAM/latest/UserGuide/console_account-alias.html) to find your ID in the Support menu of your AWS console."
   ]
  },
  {
   "cell_type": "markdown",
   "metadata": {},
   "source": [
    "### 2. Sign up for AWS educate"
   ]
  },
  {
   "cell_type": "markdown",
   "metadata": {},
   "source": [
    "Note: You will need your 12 digit AWS account ID for this step.\n",
    "\n",
    "- Go to [this webpage](https://aws.amazon.com/education/awseducate/apply/)\n",
    "- Click on the right on the button saying \"Apply for AWS Educate for Students\"\n",
    "- Confirm that you are a student\n",
    "- Fill out the form\n",
    "- **Note that that you provide should come from your institution, which means it should end in .edu** \n",
    "- It might take a few days for your request to be approved. \n",
    "\n",
    "Once again, ping us if you need help!"
   ]
  },
  {
   "cell_type": "markdown",
   "metadata": {},
   "source": [
    "## Hello, Python"
   ]
  },
  {
   "cell_type": "markdown",
   "metadata": {},
   "source": [
    "The IPython/Jupyter notebook is an application to build interactive computational notebooks. You'll be using them to complete labs and homework. Once you've set up Python, please download this page, and open it with IPython by typing\n",
    "\n",
    "```\n",
    "ipython notebook <name_of_downloaded_file>\n",
    "```"
   ]
  },
  {
   "cell_type": "markdown",
   "metadata": {},
   "source": [
    "You can also open the notebook in any folder by `cd`ing to the folder in the terminal, and typing\n",
    "\n",
    "```\n",
    "ipython notebook .\n",
    "```"
   ]
  },
  {
   "cell_type": "markdown",
   "metadata": {},
   "source": [
    "in that folder.\n",
    "\n",
    "The anaconda install also probably dropped a launcher on your desktop. You can use the launcher, and select \"ipython notebbok\" or \"jupyter notebook\" from there. In this case you will need to find out which folder you are running in.\n",
    "\n",
    "It loolks like this for me:\n",
    "\n",
    "![jupyter](jupyter.png)\n",
    "\n",
    "Notice that you can use the user interface to create new folders and text files, and even open new terminals, all of which might come useful to you. To create a new notebook, you can use \"Python 2\" under notebooks. You may not have the other choices available (I have julia for example, which is another language that uses the same notebook interface)."
   ]
  },
  {
   "cell_type": "markdown",
   "metadata": {},
   "source": [
    "For the rest of the assignment, use your local copy of this page, running on IPython.\n",
    "\n",
    "Notebooks are composed of many \"cells\", which can contain text (like this one), or code (like the one below). Double click on the cell below, and evaluate it by clicking the \"play\" button above, for by hitting shift + enter"
   ]
  },
  {
   "cell_type": "code",
   "execution_count": 2,
   "metadata": {
    "collapsed": false
   },
   "outputs": [
    {
     "name": "stdout",
     "output_type": "stream",
     "text": [
      "Item is  10\n",
      "Item is  20\n",
      "Item is  30\n",
      "Item is  40\n",
      "Item is  50\n"
     ]
    }
   ],
   "source": [
    "x = [10, 20, 30, 40, 50]\n",
    "for item in x:\n",
    "    print (\"Item is \", item)"
   ]
  },
  {
   "cell_type": "markdown",
   "metadata": {},
   "source": [
    "## Python Libraries"
   ]
  },
  {
   "cell_type": "markdown",
   "metadata": {},
   "source": [
    "###Installing additional libraries"
   ]
  },
  {
   "cell_type": "markdown",
   "metadata": {},
   "source": [
    "Anaconda includes most of the libraries we will use in this course, but you will need to install a few extra ones for the beginning of this course:\n",
    "\n",
    "1. [BeautifulSoup](http://www.crummy.com/software/BeautifulSoup/)\n",
    "1. [Seaborn](http://web.stanford.edu/~mwaskom/software/seaborn/)\n",
    "1. [PyQuery](https://pythonhosted.org/pyquery/)\n",
    "\n",
    "The recommended way to install these packages is to run \n",
    "\n",
    "`!pip install BeautifulSoup seaborn pyquery` \n",
    "\n",
    "in a code cell in the ipython notebook you just created. On windows, you might want to run `pip install BeautifulSoup seaborn pyquery` on the `git-bash.exe` terminal (note, the exclamation goes away).\n",
    "\n",
    "If this doesn't work, you can download the source code, and run `python setup.py install` from the source code directory. On Unix machines(Mac or Linux), either of these commands may require `sudo` (i.e. `sudo pip install...` or `sudo python`)"
   ]
  },
  {
   "cell_type": "markdown",
   "metadata": {},
   "source": [
    "If you've successfully completed the above install, all of the following statements should run."
   ]
  },
  {
   "cell_type": "markdown",
   "metadata": {},
   "source": [
    "###Testing latest libraries"
   ]
  },
  {
   "cell_type": "code",
   "execution_count": 10,
   "metadata": {
    "collapsed": false
   },
   "outputs": [
    {
     "name": "stdout",
     "output_type": "stream",
     "text": [
      "IPython version:       5.1.0 (need at least 3.0.0)\n",
      "Numpy version:        1.11.1 (need at least 1.9.1)\n",
      "SciPy version:        0.18.1 (need at least 0.15.1)\n",
      "Pandas version:       0.18.1 (need at least 0.16.2)\n",
      "Mapltolib version:     1.5.3 (need at least 1.4.1)\n",
      "Scikit-Learn version: 0.17.1 (need at least 0.16.1)\n",
      "requests version:     2.11.1 (need at least 2.0.0)\n",
      "BeautifulSoup version: 4.5.1 (need at least 4.4)\n",
      "Loaded PyQuery\n"
     ]
    }
   ],
   "source": [
    "#IPython is what you are using now to run the notebook\n",
    "import IPython\n",
    "print (\"IPython version:      %6.6s (need at least 3.0.0)\" % IPython.__version__)\n",
    "\n",
    "# Numpy is a library for working with Arrays\n",
    "import numpy as np\n",
    "print (\"Numpy version:        %6.6s (need at least 1.9.1)\" % np.__version__)\n",
    "\n",
    "# SciPy implements many different numerical algorithms\n",
    "import scipy as sp\n",
    "print (\"SciPy version:        %6.6s (need at least 0.15.1)\" % sp.__version__)\n",
    "\n",
    "# Pandas makes working with data tables easier\n",
    "import pandas as pd\n",
    "print (\"Pandas version:       %6.6s (need at least 0.16.2)\" % pd.__version__)\n",
    "\n",
    "# Module for plotting\n",
    "import matplotlib\n",
    "print (\"Mapltolib version:    %6.6s (need at least 1.4.1)\" % matplotlib.__version__)\n",
    "\n",
    "# SciKit Learn implements several Machine Learning algorithms\n",
    "import sklearn\n",
    "print (\"Scikit-Learn version: %6.6s (need at least 0.16.1)\" % sklearn.__version__)\n",
    "\n",
    "# Requests is a library for getting data from the Web\n",
    "import requests\n",
    "print (\"requests version:     %6.6s (need at least 2.0.0)\" % requests.__version__)\n",
    "\n",
    "#BeautifulSoup is a library to parse HTML and XML documents\n",
    "import bs4\n",
    "print (\"BeautifulSoup version:%6.6s (need at least 4.4)\" % bs4.__version__)\n",
    "\n",
    "import pyquery\n",
    "print (\"Loaded PyQuery\")"
   ]
  },
  {
   "cell_type": "markdown",
   "metadata": {},
   "source": [
    "If any of these libraries are missing or out of date, you will need to install them and restart IPython."
   ]
  },
  {
   "cell_type": "markdown",
   "metadata": {},
   "source": [
    "##Kicking the tires"
   ]
  },
  {
   "cell_type": "markdown",
   "metadata": {},
   "source": [
    "Lets try some things, starting from very simple, to more complex."
   ]
  },
  {
   "cell_type": "markdown",
   "metadata": {},
   "source": [
    "### Hello World"
   ]
  },
  {
   "cell_type": "markdown",
   "metadata": {},
   "source": [
    "The following is the incantation we like to put at the beginning of every notebook. It loads most of the stuff we will regularly use."
   ]
  },
  {
   "cell_type": "code",
   "execution_count": 11,
   "metadata": {
    "collapsed": false
   },
   "outputs": [],
   "source": [
    "# The %... is an iPython thing, and is not part of the Python language.\n",
    "# In this case we're just telling the plotting library to draw things on\n",
    "# the notebook, instead of on a separate window.\n",
    "%matplotlib inline \n",
    "#this line above prepares IPython notebook for working with matplotlib\n",
    "\n",
    "# See all the \"as ...\" contructs? They're just aliasing the package names.\n",
    "# That way we can call methods like plt.plot() instead of matplotlib.pyplot.plot().\n",
    "\n",
    "import numpy as np # imports a fast numerical programming library\n",
    "import scipy as sp #imports stats functions, amongst other things\n",
    "import matplotlib as mpl # this actually imports matplotlib\n",
    "import matplotlib.cm as cm #allows us easy access to colormaps\n",
    "import matplotlib.pyplot as plt #sets up plotting under plt\n",
    "import pandas as pd #lets us handle data as dataframes\n",
    "#sets up pandas table display\n",
    "pd.set_option('display.width', 500)\n",
    "pd.set_option('display.max_columns', 100)\n",
    "pd.set_option('display.notebook_repr_html', True)\n",
    "import seaborn as sns #sets up styles and gives us more plotting options"
   ]
  },
  {
   "cell_type": "markdown",
   "metadata": {},
   "source": [
    "### Hello matplotlib"
   ]
  },
  {
   "cell_type": "markdown",
   "metadata": {},
   "source": [
    "The notebook integrates nicely with Matplotlib, the primary plotting package for python. This should embed a figure of a sine wave:"
   ]
  },
  {
   "cell_type": "code",
   "execution_count": 12,
   "metadata": {
    "collapsed": false
   },
   "outputs": [
    {
     "data": {
      "text/plain": [
       "<matplotlib.text.Text at 0xb485c50>"
      ]
     },
     "execution_count": 12,
     "metadata": {},
     "output_type": "execute_result"
    },
    {
     "data": {
      "image/png": "iVBORw0KGgoAAAANSUhEUgAAAsEAAAHxCAYAAACMI2FEAAAABHNCSVQICAgIfAhkiAAAAAlwSFlz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\n",
      "text/plain": [
       "<matplotlib.figure.Figure at 0xb22ad68>"
      ]
     },
     "metadata": {},
     "output_type": "display_data"
    }
   ],
   "source": [
    "x = np.linspace(0, 10, 30)  #array of 30 points from 0 to 10\n",
    "y = np.sin(x)\n",
    "z = y + np.random.normal(size=30) * .2\n",
    "plt.plot(x, y, 'o-', label='A sine wave')\n",
    "plt.plot(x, z, '-', label='Noisy sine')\n",
    "plt.legend(loc = 'lower right')\n",
    "plt.xlabel(\"X axis\")\n",
    "plt.ylabel(\"Y axis\")           "
   ]
  },
  {
   "cell_type": "markdown",
   "metadata": {},
   "source": [
    "If that last cell complained about the `%matplotlib` line, you need to update IPython to v1.0, and restart the notebook. See the [installation page](https://github.com/cs109/content/wiki/Installing-Python)"
   ]
  },
  {
   "cell_type": "markdown",
   "metadata": {},
   "source": [
    "### Hello Numpy"
   ]
  },
  {
   "cell_type": "markdown",
   "metadata": {},
   "source": [
    "The Numpy array processing library is the basis of nearly all numerical computing in Python. Here's a 30 second crash course. For more details, consult Chapter 4 of Python for Data Analysis, or the [Numpy User's Guide](http://docs.scipy.org/doc/numpy-dev/user/index.html)"
   ]
  },
  {
   "cell_type": "code",
   "execution_count": 17,
   "metadata": {
    "collapsed": false
   },
   "outputs": [
    {
     "name": "stdout",
     "output_type": "stream",
     "text": [
      "Make a 3 row x 4 column array of random numbers\n",
      "[[ 0.70436357  0.40329635  0.29987769  0.82357078]\n",
      " [ 0.87577588  0.11751753  0.18077299  0.80223517]\n",
      " [ 0.25652275  0.27083061  0.62102014  0.56289721]]\n",
      "Add 1 to every element\n",
      "[[ 1.70436357  1.40329635  1.29987769  1.82357078]\n",
      " [ 1.87577588  1.11751753  1.18077299  1.80223517]\n",
      " [ 1.25652275  1.27083061  1.62102014  1.56289721]]\n",
      "Get the element at row 1, column 2\n",
      "1.18077299204\n",
      "Get the first row\n",
      "[ 1.70436357  1.40329635  1.29987769  1.82357078]\n",
      "Get every 2nd column of the first row\n",
      "[ 1.70436357  1.29987769]\n"
     ]
    },
    {
     "data": {
      "text/plain": [
       "<function print>"
      ]
     },
     "execution_count": 17,
     "metadata": {},
     "output_type": "execute_result"
    }
   ],
   "source": [
    "print (\"Make a 3 row x 4 column array of random numbers\")\n",
    "x = np.random.random((3, 4))\n",
    "print (x)\n",
    "print\n",
    "\n",
    "print (\"Add 1 to every element\")\n",
    "x = x + 1\n",
    "print (x)\n",
    "print\n",
    "\n",
    "print (\"Get the element at row 1, column 2\")\n",
    "print (x[1, 2])\n",
    "print\n",
    "\n",
    "# The colon syntax is called \"slicing\" the array. \n",
    "print (\"Get the first row\")\n",
    "print (x[0, :])\n",
    "print\n",
    "\n",
    "print (\"Get every 2nd column of the first row\")\n",
    "print (x[0, ::2])\n",
    "print"
   ]
  },
  {
   "cell_type": "markdown",
   "metadata": {},
   "source": [
    "Print the maximum, minimum, and mean of the array. This does **not** require writing a loop. In the code cell below, type `x.m<TAB>`, to find built-in operations for common array statistics like this"
   ]
  },
  {
   "cell_type": "code",
   "execution_count": 20,
   "metadata": {
    "collapsed": false
   },
   "outputs": [
    {
     "name": "stdout",
     "output_type": "stream",
     "text": [
      "Max is   1.87577588224\n",
      "Min is   1.11751753191\n",
      "Mean is  1.49322338954\n"
     ]
    }
   ],
   "source": [
    "print( \"Max is  \", x.max())\n",
    "print (\"Min is  \", x.min())\n",
    "print (\"Mean is \", x.mean())"
   ]
  },
  {
   "cell_type": "markdown",
   "metadata": {},
   "source": [
    "Call the `x.max` function again, but use the `axis` keyword to print the maximum of each row in x."
   ]
  },
  {
   "cell_type": "code",
   "execution_count": 23,
   "metadata": {
    "collapsed": false
   },
   "outputs": [
    {
     "name": "stdout",
     "output_type": "stream",
     "text": [
      "[ 1.82357078  1.87577588  1.62102014]\n",
      "[ 1.87577588  1.40329635  1.62102014  1.82357078]\n"
     ]
    }
   ],
   "source": [
    "print (x.max(axis=1))\n",
    "print (x.max(axis=0))"
   ]
  },
  {
   "cell_type": "markdown",
   "metadata": {},
   "source": [
    "Here's a way to quickly simulate 500 coin \"fair\" coin tosses (where the probabily of getting Heads is 50%, or 0.5)"
   ]
  },
  {
   "cell_type": "code",
   "execution_count": 26,
   "metadata": {
    "collapsed": false
   },
   "outputs": [
    {
     "name": "stdout",
     "output_type": "stream",
     "text": [
      "number of heads: 247\n"
     ]
    }
   ],
   "source": [
    "x = np.random.binomial(500, .5)\n",
    "print (\"number of heads:\", x)"
   ]
  },
  {
   "cell_type": "markdown",
   "metadata": {},
   "source": [
    "Repeat this simulation 500 times, and use the [plt.hist() function](http://matplotlib.org/api/pyplot_api.html#matplotlib.pyplot.hist) to plot a histogram of the number of Heads (1s) in each simulation"
   ]
  },
  {
   "cell_type": "code",
   "execution_count": 29,
   "metadata": {
    "collapsed": false
   },
   "outputs": [
    {
     "data": {
      "image/png": "iVBORw0KGgoAAAANSUhEUgAAAqwAAAHcCAYAAAATCPhsAAAABHNCSVQICAgIfAhkiAAAAAlwSFlz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\nrAAAJE1hBQAgaQorAABJ+/9dwlptWF/dOgAAAABJRU5ErkJggg==\n",
      "text/plain": [
       "<matplotlib.figure.Figure at 0xb8ff0f0>"
      ]
     },
     "metadata": {},
     "output_type": "display_data"
    }
   ],
   "source": [
    "\n",
    "# 3 ways to run the simulations\n",
    "\n",
    "# loop\n",
    "heads = []\n",
    "for i in range(500):\n",
    "    heads.append(np.random.binomial(500, .5))\n",
    "\n",
    "# \"list comprehension\"\n",
    "heads = [np.random.binomial(500, .5) for i in range(500)]\n",
    "\n",
    "# pure numpy\n",
    "heads = np.random.binomial(500, .5, size=500)\n",
    "\n",
    "histogram = plt.hist(heads, bins=10)"
   ]
  },
  {
   "cell_type": "code",
   "execution_count": 31,
   "metadata": {
    "collapsed": false
   },
   "outputs": [
    {
     "data": {
      "text/plain": [
       "(500,)"
      ]
     },
     "execution_count": 31,
     "metadata": {},
     "output_type": "execute_result"
    }
   ],
   "source": [
    "heads.shape"
   ]
  },
  {
   "cell_type": "markdown",
   "metadata": {},
   "source": [
    "## The Monty Hall Problem"
   ]
  },
  {
   "cell_type": "markdown",
   "metadata": {},
   "source": [
    "Here's a fun and perhaps surprising statistical riddle, and a good way to get some practice writing python functions\n",
    "\n",
    "In a gameshow, contestants try to guess which of 3 closed doors contain a cash prize (goats are behind the other two doors). Of course, the odds of choosing the correct door are 1 in 3. As a twist, the host of the show occasionally opens a door after a contestant makes his or her choice. This door is always one of the two the contestant did not pick, and is also always one of the goat doors (note that it is always possible to do this, since there are two goat doors). At this point, the contestant has the option of keeping his or her original choice, or swtiching to the other unopened door. The question is: is there any benefit to switching doors? The answer surprises many people who haven't heard the question before.\n",
    "\n",
    "We can answer the problem by running simulations in Python. We'll do it in several parts.\n",
    "\n",
    "First, write a function called `simulate_prizedoor`. This function will simulate the location of the prize in many games -- see the detailed specification below:"
   ]
  },
  {
   "cell_type": "code",
   "execution_count": 32,
   "metadata": {
    "collapsed": false
   },
   "outputs": [],
   "source": [
    "\"\"\"\n",
    "Function\n",
    "--------\n",
    "simulate_prizedoor\n",
    "\n",
    "Generate a random array of 0s, 1s, and 2s, representing\n",
    "hiding a prize between door 0, door 1, and door 2\n",
    "\n",
    "Parameters\n",
    "----------\n",
    "nsim : int\n",
    "    The number of simulations to run\n",
    "\n",
    "Returns\n",
    "-------\n",
    "sims : array\n",
    "    Random array of 0s, 1s, and 2s\n",
    "\n",
    "Example\n",
    "-------\n",
    ">>> print simulate_prizedoor(3)\n",
    "array([0, 0, 2])\n",
    "\"\"\"\n",
    "\n",
    "\n",
    "def simulate_prizedoor(nsim):\n",
    "    return np.random.randint(0, 3, (nsim))"
   ]
  },
  {
   "cell_type": "markdown",
   "metadata": {},
   "source": [
    "Next, write a function that simulates the contestant's guesses for `nsim` simulations. Call this function `simulate_guess`. The specs:"
   ]
  },
  {
   "cell_type": "code",
   "execution_count": 33,
   "metadata": {
    "collapsed": false
   },
   "outputs": [],
   "source": [
    "\"\"\"\n",
    "Function\n",
    "--------\n",
    "simulate_guess\n",
    "\n",
    "Return any strategy for guessing which door a prize is behind. This\n",
    "could be a random strategy, one that always guesses 2, whatever.\n",
    "\n",
    "Parameters\n",
    "----------\n",
    "nsim : int\n",
    "    The number of simulations to generate guesses for\n",
    "\n",
    "Returns\n",
    "-------\n",
    "guesses : array\n",
    "    An array of guesses. Each guess is a 0, 1, or 2\n",
    "\n",
    "Example\n",
    "-------\n",
    ">>> print simulate_guess(5)\n",
    "array([0, 0, 0, 0, 0])\n",
    "\"\"\"\n",
    "\n",
    "def simulate_guess(nsim):\n",
    "    return np.zeros(nsim, dtype=np.int)"
   ]
  },
  {
   "cell_type": "markdown",
   "metadata": {},
   "source": [
    "Next, write a function, `goat_door`, to simulate randomly revealing one of the goat doors that a contestant didn't pick."
   ]
  },
  {
   "cell_type": "code",
   "execution_count": 35,
   "metadata": {
    "collapsed": false
   },
   "outputs": [],
   "source": [
    "\"\"\"\n",
    "Function\n",
    "--------\n",
    "goat_door\n",
    "\n",
    "Simulate the opening of a \"goat door\" that doesn't contain the prize,\n",
    "and is different from the contestants guess\n",
    "\n",
    "Parameters\n",
    "----------\n",
    "prizedoors : array\n",
    "    The door that the prize is behind in each simulation\n",
    "guesses : array\n",
    "    THe door that the contestant guessed in each simulation\n",
    "\n",
    "Returns\n",
    "-------\n",
    "goats : array\n",
    "    The goat door that is opened for each simulation. Each item is 0, 1, or 2, and is different\n",
    "    from both prizedoors and guesses\n",
    "\n",
    "Examples\n",
    "--------\n",
    ">>> print goat_door(np.array([0, 1, 2]), np.array([1, 1, 1]))\n",
    ">>> array([2, 2, 0])\n",
    "\"\"\"\n",
    "\n",
    "def goat_door(prizedoors, guesses):\n",
    "    \n",
    "    #strategy: generate random answers, and\n",
    "    #keep updating until they satisfy the rule\n",
    "    #that they aren't a prizedoor or a guess\n",
    "    result = np.random.randint(0, 3, prizedoors.size)\n",
    "    while True:\n",
    "        bad = (result == prizedoors) | (result == guesses)\n",
    "        if not bad.any():\n",
    "            return result\n",
    "        result[bad] = np.random.randint(0, 3, bad.sum())"
   ]
  },
  {
   "cell_type": "markdown",
   "metadata": {},
   "source": [
    "Write a function, `switch_guess`, that represents the strategy of always switching a guess after the goat door is opened."
   ]
  },
  {
   "cell_type": "code",
   "execution_count": 36,
   "metadata": {
    "collapsed": false
   },
   "outputs": [],
   "source": [
    "\"\"\"\n",
    "Function\n",
    "--------\n",
    "switch_guess\n",
    "\n",
    "The strategy that always switches a guess after the goat door is opened\n",
    "\n",
    "Parameters\n",
    "----------\n",
    "guesses : array\n",
    "     Array of original guesses, for each simulation\n",
    "goatdoors : array\n",
    "     Array of revealed goat doors for each simulation\n",
    "\n",
    "Returns\n",
    "-------\n",
    "The new door after switching. Should be different from both guesses and goatdoors\n",
    "\n",
    "Examples\n",
    "--------\n",
    ">>> print switch_guess(np.array([0, 1, 2]), np.array([1, 2, 1]))\n",
    ">>> array([2, 0, 0])\n",
    "\"\"\"\n",
    "\n",
    "def switch_guess(guesses, goatdoors):\n",
    "    result = np.zeros(guesses.size)\n",
    "    switch = {(0, 1): 2, (0, 2): 1, (1, 0): 2, (1, 2): 1, (2, 0): 1, (2, 1): 0}\n",
    "    for i in [0, 1, 2]:\n",
    "        for j in [0, 1, 2]:\n",
    "            mask = (guesses == i) & (goatdoors == j)\n",
    "            if not mask.any():\n",
    "                continue\n",
    "            result = np.where(mask, np.ones_like(result) * switch[(i, j)], result)\n",
    "    return result"
   ]
  },
  {
   "cell_type": "markdown",
   "metadata": {},
   "source": [
    "Last function: write a `win_percentage` function that takes an array of `guesses` and `prizedoors`, and returns the percent of correct guesses"
   ]
  },
  {
   "cell_type": "code",
   "execution_count": 37,
   "metadata": {
    "collapsed": false
   },
   "outputs": [],
   "source": [
    "\"\"\"\n",
    "Function\n",
    "--------\n",
    "win_percentage\n",
    "\n",
    "Calculate the percent of times that a simulation of guesses is correct\n",
    "\n",
    "Parameters\n",
    "-----------\n",
    "guesses : array\n",
    "    Guesses for each simulation\n",
    "prizedoors : array\n",
    "    Location of prize for each simulation\n",
    "\n",
    "Returns\n",
    "--------\n",
    "percentage : number between 0 and 100\n",
    "    The win percentage\n",
    "\n",
    "Examples\n",
    "---------\n",
    ">>> print win_percentage(np.array([0, 1, 2]), np.array([0, 0, 0]))\n",
    "33.333\n",
    "\"\"\"\n",
    "\n",
    "def win_percentage(guesses, prizedoors):\n",
    "    return 100 * (guesses == prizedoors).mean()"
   ]
  },
  {
   "cell_type": "markdown",
   "metadata": {},
   "source": [
    "Now, put it together. Simulate 10000 games where contestant keeps his original guess, and 10000 games where the contestant switches his door after a  goat door is revealed. Compute the percentage of time the contestant wins under either strategy. Is one strategy better than the other?"
   ]
  },
  {
   "cell_type": "code",
   "execution_count": 44,
   "metadata": {
    "collapsed": false
   },
   "outputs": [
    {
     "name": "stdout",
     "output_type": "stream",
     "text": [
      "Win percentage when keeping original door\n",
      "33.18\n",
      "Win percentage when switching doors\n",
      "66.62\n"
     ]
    }
   ],
   "source": [
    "\n",
    "nsim = 10000\n",
    "\n",
    "#keep guesses\n",
    "print (\"Win percentage when keeping original door\")\n",
    "print (win_percentage(simulate_prizedoor(nsim), simulate_guess(nsim)))\n",
    "\n",
    "#switch\n",
    "pd = simulate_prizedoor(nsim)\n",
    "guess = simulate_guess(nsim)\n",
    "goats = goat_door(pd, guess)\n",
    "guess = switch_guess(guess, goats)\n",
    "print (\"Win percentage when switching doors\")\n",
    "print (win_percentage(pd, guess).mean())"
   ]
  },
  {
   "cell_type": "markdown",
   "metadata": {},
   "source": [
    "Many people find this answer counter-intuitive (famously, PhD mathematicians have incorrectly claimed the result must be wrong. Clearly, none of them knew Python). \n",
    "\n",
    "One of the best ways to build intuition about why opening a Goat door affects the odds is to re-run the experiment with 100 doors and one prize. If the game show host opens 98 goat doors after you make your initial selection, would you want to keep your first pick or switch? Can you generalize your simulation code to handle the case of `n` doors?"
   ]
  },
  {
   "cell_type": "code",
   "execution_count": 116,
   "metadata": {
    "collapsed": true
   },
   "outputs": [],
   "source": [
    "def simulate_prizedoor(n,nsim):\n",
    "    return np.random.randint(0, n, (nsim))"
   ]
  },
  {
   "cell_type": "code",
   "execution_count": 117,
   "metadata": {
    "collapsed": false
   },
   "outputs": [],
   "source": [
    "def simulate_guessdoor(n,nsim):\n",
    "    return np.random.randint(0, n, (nsim))"
   ]
  },
  {
   "cell_type": "code",
   "execution_count": 118,
   "metadata": {
    "collapsed": true
   },
   "outputs": [],
   "source": [
    "def unopened_door(n, prizedoors, guesses):\n",
    "    result = np.random.randint(0, n, prizedoors.size)\n",
    "    while True:\n",
    "        bad = (guesses == result) | ((guesses != prizedoors) & (result != prizedoors))\n",
    "        if not bad.any():\n",
    "            return result\n",
    "        result[bad] = np.random.randint(0, n, bad.sum())"
   ]
  },
  {
   "cell_type": "code",
   "metadata": {
    "collapsed": false
   },
   "outputs": [
    {
     "name": "stdout",
     "output_type": "stream",
     "text": [
      "Win percentage when keeping original door\n",
      "Win percentage when switching doors\n",
     ]
    }
   ],
   "source": [
    "n = 100\n",
    "prize_doors = simulate_prizedoor(n, nsim)\n",
    "guesses = simulate_guessdoor(n, nsim)\n",
    "unopened_doors = unopened_door(n, prize_doors, guesses)\n",
    "#print ('prize_doors =   ', prize_doors)\n",
    "#print ('guess_doors =   ', guesses)\n",
    "#print ('unopened_doors =', unopened_doors)\n",
    "\n",
    "#keep guesses\n",
    "print (\"Win percentage when keeping original door\")\n",
    "print (win_percentage(prize_doors, guesses))\n",
    "\n",
    "#switch\n",
    "prize_doors = simulate_prizedoor(n, nsim)\n",
    "guesses = simulate_guessdoor(n, nsim)\n",
    "unopened_doors = unopened_door(n, prize_doors, guesses)\n",
    "print (\"Win percentage when switching doors\")\n",
    "print (win_percentage(prize_doors, unopened_doors).mean())"
   ]
  },
  {
   "cell_type": "markdown",
   "metadata": {
    "collapsed": true
   },
   "source": [
    "##The workflow for homeworks and labs"
   ]
  },
  {
   "cell_type": "markdown",
   "metadata": {},
   "source": [
    "###getting and working on labs"
   ]
  },
  {
   "cell_type": "markdown",
   "metadata": {},
   "source": [
    "Lets talk a bit about how labs and sections work in this course:\n",
    "\n",
    "1. Lab Notebooks are made available every Thursday evening.\n",
    "2. Lab Videos (which may not cover everything in the notebooks) are made available every Friday as well\n",
    "3. In sections starting Monday morning, and running upto the next Friday, your TA will present part of the lab to you. You ought to have looked at and perhaps tried the lab over the previous weekend, and your section might reach a consensus on what you'd like your TF to focus on: please communicate this.\n",
    "\n",
    "(Sections are 2 hours long. The first hour will be spent going over the lab, while the second if an office hour, where you can ask your TA questions about the homework, the lectures, the subject matter, and even the lab).\n",
    "\n",
    "The labs will be made available on public github repositories, with naming schemes like `cs109/2015lab1`.\n",
    "\n",
    "This is how you ought to work with them (our github tutorial has an example of this process on the `cs109/testing` repository):\n",
    "\n",
    "1. First fork the lab from the github web interface. For example, the first lab is at: https://github.com/cs109/2015lab1 . The fork button is at the upper right corner of the page. Press it.\n",
    "2. When it asks you where to fork the lab, choose your own github userid. The web interface will then take you to the web page for your fork. Mine is at: https://github.com/rahuldave/2015lab1 .\n",
    "3. Now look for the clone url at the bottom right of the page. If you set up your ssh keys, use the ssh url, else use the https url. Mine are `git@github.com:rahuldave/2015lab1.git` and `https://github.com/rahuldave/2015lab1.git` respectively. \n",
    "4. Clone your fork down to your machine by obtaining a terminal (`/Applications/Utilities/Terminal.app` or equivalent on mac and `git-bash.exe` on windows). Change (`cd`) into an appropriate folder and clone by doing `git clone url` where the `url` is the one in step 3.\n",
    "5. Add a remote for the original repository that you forked from. We'll call this remote `course`. The command for this, for example, for the first lab is: `git remote add course git@github.com:cs109/2015lab1.git` or `git remote add course https://github.com/cs109/2015lab1.git`\n",
    "6. Now you have a local repository. Start the ipython notebook in the repository and run the labs. DO NOT run the notebooks ending in `_original.ipynb`. These are simply copies of the labs. We made these copies so that you can update them from our `course` remote in case we make any changes.\n",
    "\n",
    "For Lab 1 I'd start with pythonpandas, followed by babypython, and finally git. The git notebook can be run under the ipython notebook. But the git commands can also be run directly on a terminal, which is probably the best place to do them...you can keep the notebook on the side to read as you follow along). So after once having read the tutorial, as described earlier, you now get to work through it.\n",
    "\n",
    "When you follow along, you can add in your own notes, and try your own variations. As you are doing this, dont forget to continue doing the \"add/commit/push\" cycle, so that you save and version your changes, and push them to your fork. This typically looks like:\n",
    "    - git add .\n",
    "    - git commit -a\n",
    "    - git push\n",
    "    \n",
    "In case we make changes, you can incorporate them into your repo by doing: `git fetch course; git checkout course/master -- labname_original.ipynb` where `labname.ipynb` is the lab in question. An \"add/commit/push\" cycle will make sure these changes go into your fork as well. If you intend to work on the changed file, simply copy the file to another one and work on it. Or you could make a new branch. Remember that this fork is YOUR repository, and you can do to it what you like. \n",
    "\n",
    "The diagram below should help elucidate the above and serve as a command cheat-sheet."
   ]
  },
  {
   "cell_type": "markdown",
   "metadata": {},
   "source": [
    "![homework](cs109gitflow3.png)\n"
   ]
  },
  {
   "cell_type": "markdown",
   "metadata": {},
   "source": [
    "###getting and submitting homework"
   ]
  },
  {
   "cell_type": "markdown",
   "metadata": {},
   "source": [
    "To make `hw0.ipynb` easily accessible, we added it to the public lab repo, so that you can read it even without having a github account. (Otherwise we would have a chicken and egg problem.). This is because our homework repository is private, and we have set it up so that your repositories are private as well.\n",
    "\n",
    "Nevertheless, we want you to get acquainted with the workflow you must execute in order to obtain and submit homeworks. \n",
    "\n",
    "Let me first describe the steps by which you gain access to the homework.\n",
    "\n",
    "1. At the beginning of this document you were asked to obtain a github id and enter it in the mandatory survey. We will use this github id to construct a homework repository for you with read-write access, and give you access to our read-only homework repository. You will be added to a github organization `cs109-students`.\n",
    "2. Our read-only repository is `cs109-students/2015hw`. All students have read-only access to this repository. It will serve the job of the `course` remote, like above. Any changes after the homework has gone out will be made here.\n",
    "3. You will have your own read-write repository under the `cs109-students` organization, which will be of the form `cs109-students/userid-2015hw`. Only you and the cs109 staff have access to this repository, thus ensuring the privacy of your homework.\n",
    "4. When each homework is released, we will create a **branch** on your remote repository, `cs109-students/userid-2015hw`. The branches are, unimaginatively named: `hw0`, `hw1`,...,`hw5`. (For the curious, the way this works is by us creating one remote per student for a local clone of our `cs109-students/2015hw` repository, and pushing the new branch to it. We only push to a new branch each time as we dont want to be messing with a branch you have already worked on.). There is `master` branch too, which will have some instructions, but nothing very exciting. You will never work on this branch.\n",
    "\n",
    "So now, how to you obtain and submit the homework? You wont be forking here.\n",
    "\n",
    "1. You first make a clone of your repository. From the terminal, you issue the command: `git clone git@github.com:cs109-students/userid-2015hw.git` (for ssh users) or `git clone https://github.com/cs109-students/userid-2015hw.git` (for https users). Substitute your own userid for `userid`.\n",
    "2. Next you add a remote `course` to track the read-only \"guru\" repository. The command for this is: `git remote add course git@github.com:cs109-students/2015hw.git` or `git remote add course https://github.com/cs109-students/2015hw.git`. This well help to incorporate any changes, just like above.\n",
    "3. Your clone will come with a `master` branch, and perhaps a `hw0` branch. In either case you should first do `git fetch origin hw0`, which fetches from *your* remote repository on github the `hw0` branch. Then you issue `git checkout -b hw0 origin/hw0`. This command makes a new local branch `hw0` on your machine which tracks the `hw0` branch on your remote.\n",
    "4. You are now in the `hw0` branch. This is where you will work on homework 0. Start the ipython notebook in the repository and run the homework. The file you will use is `hw0.ipynb`. DO NOT run the notebook ending in `_original.ipynb`. These are simply copies of the homework. We made these copies so that you can update them from our `course` remote in case we make any changes. You will now engage in the \"add/commit/push\" cycle as described above. (The `push` will only push to the remote `hw0` branch.)\n",
    "5. We'll grade the last commit you make before the homework deadline. We will be looking for the file `hw0.ipynb`. (In actuality we wont grade homework 0 but check that you submitted it. But we will be using this mechanism to grade the homeworks from homework 1 onwards.)\n",
    "6. When we are ready to send out homework 1 to you, we will create a new branch on your remote repository `git@github.com:cs109-students/userid-2015hw.git` on github with the name `hw1`. You will now repeat the process from step 3 onwards: `git fetch origin hw1` followed by `git checkout -b hw1 origin/hw1`. Then you work on the `hw1` branch, and engage in the \"add/commit/push\" cycle by running `hw1.ipynb`. And so on...\n",
    "\n",
    "Once again, in case we make changes, you can incorporate them into your repo by doing: `git fetch course; git checkout course/hw0 -- hw0_original.ipynb`. An \"add/commit/push\" cycle will make sure these changes go into your fork as well. If you intend to work on the changed file `hw0_original.ipynb`, simply copy the file to `hw0.ipynb` and work on it. \n",
    "\n",
    "Remember that we will be looking for files `hw0.ipynb`, `hw1.ipynb`,...,`hw5.ipynb` as the semester goes on.\n",
    "\n",
    "This process is summarized in the diagram below."
   ]
  },
  {
   "cell_type": "markdown",
   "metadata": {},
   "source": [
    "![homework](cs109gitflow2.png)"
   ]
  }
 ],
 "metadata": {
  "anaconda-cloud": {},
  "kernelspec": {
   "display_name": "Python [default]",
   "language": "python",
   "name": "python3"
  },
  "language_info": {
   "codemirror_mode": {
    "name": "ipython",
    "version": 3
   },
   "file_extension": ".py",
   "mimetype": "text/x-python",
   "name": "python",
   "nbconvert_exporter": "python",
   "pygments_lexer": "ipython3",
   "version": "3.5.2"
  }
 },
 "nbformat": 4,
 "nbformat_minor": 0
}
